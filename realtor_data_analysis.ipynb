{
  "nbformat": 4,
  "nbformat_minor": 0,
  "metadata": {
    "colab": {
      "name": "realtor_data_analysis.ipynb",
      "provenance": [],
      "collapsed_sections": []
    },
    "kernelspec": {
      "name": "python3",
      "display_name": "Python 3"
    }
  },
  "cells": [
    {
      "cell_type": "markdown",
      "metadata": {
        "id": "yegVSSniDhz5",
        "colab_type": "text"
      },
      "source": [
        "# Realtor.com Data Extraction & Analysis\n",
        "\n",
        "# Table of Contents\n",
        "0.1__Realtor.com Search\n",
        "\n",
        "0.2__View Page Source\n",
        "\n",
        "0.3__Copy & Save Source\n",
        "\n",
        "0.4__Repeat As Needed\n",
        "\n",
        "1.1__Mount Google Drive\n",
        "\n",
        "1.2__Change Directory\n",
        "\n",
        "1.3__def get_home_data()\n",
        "\n",
        "2.1__Load DataFrame\n",
        "\n",
        "2.2__Sort DF by $/SQFT\n",
        "\n",
        "2.3__Plot DF with Mean $/SQFT\n"
      ]
    },
    {
      "cell_type": "markdown",
      "metadata": {
        "id": "Fbhbz4zKER2P",
        "colab_type": "text"
      },
      "source": [
        "# 0.1 Realtor.com Search\n",
        "\n",
        "Conduct search on Realtor.com by zipcode or neighborhood.\n",
        "\n",
        "![Realtor.com search](https://drive.google.com/uc?export=view&id=1-RcJ1ms93RLdKed_HxOAxKvoisXJcvss)"
      ]
    },
    {
      "cell_type": "markdown",
      "metadata": {
        "id": "vu-NT3RlEeco",
        "colab_type": "text"
      },
      "source": [
        "#0.2 View Page Source\n",
        "\n",
        "Right click on the search page and click 'View Page Source'.\n",
        "\n",
        "![View Page Source](https://drive.google.com/uc?export=view&id=1-SbyxsSpbG9oXSTiAOPKyPqy08tn5WK8)"
      ]
    },
    {
      "cell_type": "markdown",
      "metadata": {
        "id": "GsgjqhqJFM7F",
        "colab_type": "text"
      },
      "source": [
        "#0.3 Copy & Save Source\n",
        "\n",
        "Copy page source to a .txt document.  Create Google Drive folder /My_Drive/Colab_Notebooks/'search_zipcode' and save .txt to new Drive folder.\n",
        "\n",
        "![Open TextEditor](https://drive.google.com/uc?export=view&id=1-Ta7gCRO0P8zUxsTqvrYE6iPQ2Nkk2XY)\n",
        "\n",
        "![Create New GDrive file](https://drive.google.com/uc?export=view&id=1-qC1r5ibfFMmaWycgAWjvxaFM9_FzM-r)\n",
        "\n",
        "![Save file in Drive](https://drive.google.com/uc?export=view&id=1-ccn8Ia4ThdWQHqRyXIDS0unui4c4tmx)"
      ]
    },
    {
      "cell_type": "markdown",
      "metadata": {
        "id": "2JfQBSdFFYmX",
        "colab_type": "text"
      },
      "source": [
        "# 0.4 Repeat As Needed\n",
        "\n",
        "For searches with multiple pages, navigate to next page and repeat steps 0.2 and 0.3.  Save additional page sources in same search folder.\n",
        "\n",
        "![Repeat for each page](https://drive.google.com/uc?export=view&id=1-bbVAzUh1BesvRM8Cll0rkTaofLdPHoW)"
      ]
    },
    {
      "cell_type": "markdown",
      "metadata": {
        "id": "s9ANFs83aCsR",
        "colab_type": "text"
      },
      "source": [
        "# 1.1 Mount Google Drive\n",
        "\n",
        "Mount Drive to get html data.\n",
        "\n",
        "After RUN, go to URL provided and copy auth key.  Paste auth key and press enter/return."
      ]
    },
    {
      "cell_type": "code",
      "metadata": {
        "id": "F9CSbEsQfq99",
        "colab_type": "code",
        "colab": {
          "base_uri": "https://localhost:8080/",
          "height": 122
        },
        "outputId": "7fd94cd7-f4c9-4c68-b338-ad90cd184a1b"
      },
      "source": [
        "from google.colab import drive\n",
        "drive.mount('/content/gdrive')"
      ],
      "execution_count": 1,
      "outputs": [
        {
          "output_type": "stream",
          "text": [
            "Go to this URL in a browser: https://accounts.google.com/o/oauth2/auth?client_id=947318989803-6bn6qk8qdgf4n4g3pfee6491hc0brc4i.apps.googleusercontent.com&redirect_uri=urn%3aietf%3awg%3aoauth%3a2.0%3aoob&response_type=code&scope=email%20https%3a%2f%2fwww.googleapis.com%2fauth%2fdocs.test%20https%3a%2f%2fwww.googleapis.com%2fauth%2fdrive%20https%3a%2f%2fwww.googleapis.com%2fauth%2fdrive.photos.readonly%20https%3a%2f%2fwww.googleapis.com%2fauth%2fpeopleapi.readonly\n",
            "\n",
            "Enter your authorization code:\n",
            "··········\n",
            "Mounted at /content/gdrive\n"
          ],
          "name": "stdout"
        }
      ]
    },
    {
      "cell_type": "markdown",
      "metadata": {
        "id": "ijS7S12biTw2",
        "colab_type": "text"
      },
      "source": [
        "# 1.2 Change Directory\n",
        "\n",
        "Change current directory to directory with HTML Realtor.com data"
      ]
    },
    {
      "cell_type": "code",
      "metadata": {
        "id": "5rBwKSpCiPZg",
        "colab_type": "code",
        "colab": {
          "base_uri": "https://localhost:8080/",
          "height": 69
        },
        "outputId": "086e29a3-3923-44de-da73-fdf66ae53e0f"
      },
      "source": [
        "%cd drive/My\\ Drive/Colab\\ Notebooks\n",
        "%ls"
      ],
      "execution_count": 2,
      "outputs": [
        {
          "output_type": "stream",
          "text": [
            "/content/drive/My Drive/Colab Notebooks\n",
            "\u001b[0m\u001b[01;34m44111_data\u001b[0m/              realtor_data_analysis.ipynb\n",
            "COVID-19_analysis.ipynb  utilities_data_2019.ipynb\n"
          ],
          "name": "stdout"
        }
      ]
    },
    {
      "cell_type": "markdown",
      "metadata": {
        "id": "LWdnLrx9AaSQ",
        "colab_type": "text"
      },
      "source": [
        "# 1.3 def get_home_data() \n",
        "\n",
        "Loop through all files in directory and use BeautifulSoup to extract house data.  Append data to list 'house_data'.\n",
        "\n",
        "Replace tgt_dir with your house data folder name:\n",
        "\n",
        "tgt_dir = '44111_data' > tgt_dir = '[colab_folder_name]'"
      ]
    },
    {
      "cell_type": "code",
      "metadata": {
        "id": "BIkIyHg0fr5K",
        "colab_type": "code",
        "colab": {
          "base_uri": "https://localhost:8080/",
          "height": 156
        },
        "outputId": "d022cfb0-8198-405f-b918-ac1da9fb5987"
      },
      "source": [
        "from bs4 import BeautifulSoup\n",
        "import os\n",
        "import glob\n",
        "import json\n",
        "\n",
        "house_data = []\n",
        "\n",
        "def get_home_data():\n",
        "  \n",
        "  tgt_dir = '44111_data'\n",
        "\n",
        "  files = glob.glob(os.path.join(tgt_dir, '*.txt'))\n",
        "\n",
        "  n=1\n",
        "\n",
        "  for f in files:\n",
        "\n",
        "    print('Collecting page {} data...'.format(n))\n",
        "    \n",
        "    with open(f, 'r') as f :\n",
        "        data = f.read()\n",
        "\n",
        "    soup = BeautifulSoup(data, \"html.parser\")\n",
        "    \n",
        "    divs = soup.findAll('div', {'data-label':'property-card'})\n",
        "\n",
        "    for div in divs:\n",
        "\n",
        "        #house data required\n",
        "        house = {\n",
        "        'address' : [],\n",
        "        'price' : [],\n",
        "        'beds' : [],\n",
        "        'baths' : [],\n",
        "        'sqft' : [],\n",
        "        'lot_sqft' : [],\n",
        "        'pending_contingent' : []\n",
        "        }\n",
        "\n",
        "        #get house address\n",
        "\n",
        "        address = div.find('div', {'data-label': 'pc-address'}).text\n",
        "        house['address'] = address\n",
        "\n",
        "        #print('Collecting data: ' + address)\n",
        "\n",
        "        #get house price\n",
        "        price = div.find('span', {'data-label':'pc-price'})\n",
        "        if price != None:\n",
        "          price = ''.join(filter(lambda x: x in ('1234567890.'), div.find('span', {'data-label':'pc-price'}).text))\n",
        "          house['price'] = price\n",
        "        else:\n",
        "          house['price'] = ''\n",
        "\n",
        "        #get number of bedrooms in house\n",
        "        beds = div.find('li', {'data-label':'pc-meta-beds'})\n",
        "        if beds != None:\n",
        "          beds = ''.join(filter(lambda x: x in ('1234567890.'), div.find('li', {'data-label':'pc-meta-beds'}).text))\n",
        "          house['beds'] = beds\n",
        "        else:\n",
        "          house['beds'] = ''\n",
        "\n",
        "        #get number of bathrooms in house\n",
        "        baths = div.find('li', {'data-label':'pc-meta-baths'})\n",
        "        if baths != None:\n",
        "          baths = ''.join(filter(lambda x: x in ('1234567890.'), div.find('li', {'data-label':'pc-meta-baths'}).text))\n",
        "          house['baths'] = baths\n",
        "        else:\n",
        "          house['baths'] = ''\n",
        "        \n",
        "        #get total square footage\n",
        "        sqft = div.find('li', {'data-label':'pc-meta-sqft'})\n",
        "        if sqft != None:\n",
        "          sqft = ''.join(filter(lambda x: x in ('1234567890.'), div.find('li', {'data-label':'pc-meta-sqft'}).text))\n",
        "          house['sqft'] = sqft\n",
        "        else:\n",
        "          house['sqft'] = ''\n",
        "\n",
        "        #get total lot square footage\n",
        "        sqftlot = div.find('li', {'data-label':'pc-meta-sqftlot'})\n",
        "        if sqftlot != None:\n",
        "          sqftlot = ''.join(filter(lambda x: x in ('1234567890.'), div.find('li', {'data-label':'pc-meta-sqftlot'}).text))\n",
        "          house['sqftlot'] = sqftlot\n",
        "        else:\n",
        "          house['sqftlot'] = ''\n",
        "\n",
        "        house_data.append(house)\n",
        "\n",
        "    print('Appending page {} data...'.format(n))\n",
        "    n = n+1\n",
        "\n",
        "  print(house_data) \n",
        "        \n",
        "get_home_data()"
      ],
      "execution_count": 3,
      "outputs": [
        {
          "output_type": "stream",
          "text": [
            "Collecting page 1 data...\n",
            "Appending page 1 data...\n",
            "Collecting page 2 data...\n",
            "Appending page 2 data...\n",
            "Collecting page 3 data...\n",
            "Appending page 3 data...\n",
            "[{'address': '3809 W 117th St, Cleveland, OH 44111', 'price': '44900', 'beds': '3', 'baths': '1', 'sqft': '912', 'lot_sqft': [], 'pending_contingent': [], 'sqftlot': '4800'}, {'address': '3980 Rocky River Dr, Cleveland, OH 44111', 'price': '59900', 'beds': '3', 'baths': '2', 'sqft': '1925', 'lot_sqft': [], 'pending_contingent': [], 'sqftlot': '0.4'}, {'address': '11505 Fidelity Ave, Cleveland, OH 44111', 'price': '119900', 'beds': '3', 'baths': '2.5', 'sqft': '2566', 'lot_sqft': [], 'pending_contingent': [], 'sqftlot': '5201'}, {'address': '3683 W 140th St, Cleveland, OH 44111', 'price': '65000', 'beds': '4', 'baths': '1.5', 'sqft': '1332', 'lot_sqft': [], 'pending_contingent': [], 'sqftlot': '5663'}, {'address': '3489 W 137th St, Cleveland, OH 44111', 'price': '139000', 'beds': '5', 'baths': '1.5', 'sqft': '2852', 'lot_sqft': [], 'pending_contingent': [], 'sqftlot': '4369'}, {'address': '3532 W 152nd St, Cleveland, OH 44111', 'price': '224900', 'beds': '5', 'baths': '3.5', 'sqft': '2716', 'lot_sqft': [], 'pending_contingent': [], 'sqftlot': '6482'}, {'address': '3646 W 104th St, Cleveland, OH 44111', 'price': '79900', 'beds': '2', 'baths': '1', 'sqft': '1810', 'lot_sqft': [], 'pending_contingent': [], 'sqftlot': '4225'}, {'address': '14721 Westland Ave, Cleveland, OH 44111', 'price': '187900', 'beds': '3', 'baths': '1.5', 'sqft': '1328', 'lot_sqft': [], 'pending_contingent': [], 'sqftlot': '6800'}, {'address': '11024 Linnet Ave, Cleveland, OH 44111', 'price': '79500', 'beds': '2', 'baths': '1', 'sqft': '1932', 'lot_sqft': [], 'pending_contingent': [], 'sqftlot': '4199'}, {'address': '12002 Cooley Ave, Cleveland, OH 44111', 'price': '84995', 'beds': '2', 'baths': '2', 'sqft': '1120', 'lot_sqft': [], 'pending_contingent': [], 'sqftlot': '6721'}, {'address': '3691 W 136th St, Cleveland, OH 44111', 'price': '129900', 'beds': '3', 'baths': '2', 'sqft': '1536', 'lot_sqft': [], 'pending_contingent': [], 'sqftlot': '4800'}, {'address': '3469 W 133rd St, Cleveland, OH 44111', 'price': '94900', 'beds': '3', 'baths': '1.5', 'sqft': '2088', 'lot_sqft': [], 'pending_contingent': [], 'sqftlot': '3676'}, {'address': '3797 W 129th St, Cleveland, OH 44111', 'price': '115000', 'beds': '4', 'baths': '2', 'sqft': '1628', 'lot_sqft': [], 'pending_contingent': [], 'sqftlot': '0.32'}, {'address': '3646 W 102nd St, Cleveland, OH 44111', 'price': '79900', 'beds': '4', 'baths': '2', 'sqft': '2064', 'lot_sqft': [], 'pending_contingent': [], 'sqftlot': '4900'}, {'address': '16804 Ernadale Ave, Cleveland, OH 44111', 'price': '219900', 'beds': '5', 'baths': '2', 'sqft': '3216', 'lot_sqft': [], 'pending_contingent': [], 'sqftlot': '6451'}, {'address': '14315 Lakota Ave, Cleveland, OH 44111', 'price': '79900', 'beds': '2', 'baths': '1', 'sqft': '768', 'lot_sqft': [], 'pending_contingent': [], 'sqftlot': '6251'}, {'address': '3648 W 129th St, Cleveland, OH 44111', 'price': '129000', 'beds': '3', 'baths': '1', 'sqft': '2700', 'lot_sqft': [], 'pending_contingent': [], 'sqftlot': '3676'}, {'address': '14705 Triskett Rd, Cleveland, OH 44111', 'price': '149900', 'beds': '2', 'baths': '1', 'sqft': '832', 'lot_sqft': [], 'pending_contingent': [], 'sqftlot': '4635'}, {'address': '3259 W 125th St, Cleveland, OH 44111', 'price': '89900', 'beds': '4', 'baths': '2', 'sqft': '1787', 'lot_sqft': [], 'pending_contingent': [], 'sqftlot': '5123'}, {'address': '3327 W 100th St, Cleveland, OH 44111', 'price': '131000', 'beds': '4', 'baths': '2', 'sqft': '1576', 'lot_sqft': [], 'pending_contingent': [], 'sqftlot': '4722'}, {'address': '3909 W 158th St, Cleveland, OH 44111', 'price': '165000', 'beds': '4', 'baths': '2', 'sqft': '2199', 'lot_sqft': [], 'pending_contingent': [], 'sqftlot': '4373'}, {'address': '3399 Berea Rd, Cleveland, OH 44111', 'price': '109000', 'beds': '3', 'baths': '1', 'sqft': '1455', 'lot_sqft': [], 'pending_contingent': [], 'sqftlot': '3698'}, {'address': '3760 W 176th St, Cleveland, OH 44111', 'price': '179900', 'beds': '3', 'baths': '2', 'sqft': '2366', 'lot_sqft': [], 'pending_contingent': [], 'sqftlot': '6521'}, {'address': '3420 W 117th St, Cleveland, OH 44111', 'price': '69900', 'beds': '4', 'baths': '2', 'sqft': '1956', 'lot_sqft': [], 'pending_contingent': [], 'sqftlot': '4199'}, {'address': '3827 W 135th St, Cleveland, OH 44111', 'price': '123000', 'beds': '3', 'baths': '2', 'sqft': '1504', 'lot_sqft': [], 'pending_contingent': [], 'sqftlot': '4800'}, {'address': '3635 W 122nd St, Cleveland, OH 44111', 'price': '139900', 'beds': '3', 'baths': '2', 'sqft': '1676', 'lot_sqft': [], 'pending_contingent': [], 'sqftlot': '3675'}, {'address': '16005 Edgecliff Ave, Cleveland, OH 44111', 'price': '180000', 'beds': '3', 'baths': '1.5', 'sqft': '2589', 'lot_sqft': [], 'pending_contingent': [], 'sqftlot': '5401'}, {'address': '3515 W 125th St, Cleveland, OH 44111', 'price': '69900', 'beds': '4', 'baths': '2', 'sqft': '2052', 'lot_sqft': [], 'pending_contingent': [], 'sqftlot': '3485'}, {'address': '3361 W 118th St, Cleveland, OH 44111', 'price': '109900', 'beds': '3', 'baths': '1', 'sqft': '1152', 'lot_sqft': [], 'pending_contingent': [], 'sqftlot': '4199'}, {'address': '3743 Highland Rd, Cleveland, OH 44111', 'price': '89900', 'beds': '3', 'baths': '1', 'sqft': '', 'lot_sqft': [], 'pending_contingent': [], 'sqftlot': '0.43'}, {'address': '10601 Almira Ave, Cleveland, OH 44111', 'price': '109900', 'beds': '4', 'baths': '2', 'sqft': '3050', 'lot_sqft': [], 'pending_contingent': [], 'sqftlot': '5201'}, {'address': '3239 Berea Rd, Cleveland, OH 44111', 'price': '94900', 'beds': '3', 'baths': '1', 'sqft': '1534', 'lot_sqft': [], 'pending_contingent': [], 'sqftlot': '4800'}, {'address': '3069 W 105th St, Cleveland, OH 44111', 'price': '62000', 'beds': '4', 'baths': '2', 'sqft': '2304', 'lot_sqft': [], 'pending_contingent': [], 'sqftlot': '3920'}, {'address': '16009 Normandy Ave, Cleveland, OH 44111', 'price': '175000', 'beds': '3', 'baths': '2', 'sqft': '1682', 'lot_sqft': [], 'pending_contingent': [], 'sqftlot': '5998'}, {'address': '3536 W 152nd St, Cleveland, OH 44111', 'price': '167900', 'beds': '3', 'baths': '1.5', 'sqft': '2220', 'lot_sqft': [], 'pending_contingent': [], 'sqftlot': '6865'}, {'address': '3173 W 139th St, Cleveland, OH 44111', 'price': '118900', 'beds': '4', 'baths': '1', 'sqft': '1340', 'lot_sqft': [], 'pending_contingent': [], 'sqftlot': '4639'}, {'address': '12054 Geraldine Ave, Cleveland, OH 44111', 'price': '82500', 'beds': '2', 'baths': '2', 'sqft': '1041', 'lot_sqft': [], 'pending_contingent': [], 'sqftlot': '6098'}, {'address': '3729 W 134th St, Cleveland, OH 44111', 'price': '115000', 'beds': '4', 'baths': '2', 'sqft': '2069', 'lot_sqft': [], 'pending_contingent': [], 'sqftlot': '5998'}, {'address': '14502 Roxboro Ave, Cleveland, OH 44111', 'price': '189900', 'beds': '4', 'baths': '1.5', 'sqft': '1592', 'lot_sqft': [], 'pending_contingent': [], 'sqftlot': '5279'}, {'address': '15321 Lydian Ave, Cleveland, OH 44111', 'price': '185000', 'beds': '3', 'baths': '1', 'sqft': '2058', 'lot_sqft': [], 'pending_contingent': [], 'sqftlot': '3990'}, {'address': '3903 Riveredge Rd, Cleveland, OH 44111', 'price': '229750', 'beds': '3', 'baths': '1.5', 'sqft': '2246', 'lot_sqft': [], 'pending_contingent': [], 'sqftlot': '7039'}, {'address': '15300 Lydian Ave, Cleveland, OH 44111', 'price': '144900', 'beds': '3', 'baths': '2', 'sqft': '1278', 'lot_sqft': [], 'pending_contingent': [], 'sqftlot': '6480'}, {'address': '11922 Summerland Ave, Cleveland, OH 44111', 'price': '104900', 'beds': '3', 'baths': '1', 'sqft': '1008', 'lot_sqft': [], 'pending_contingent': [], 'sqftlot': '5445'}, {'address': '3027 W 101st St, Cleveland, OH 44111', 'price': '65900', 'beds': '3', 'baths': '1', 'sqft': '1274', 'lot_sqft': [], 'pending_contingent': [], 'sqftlot': '4800'}, {'address': '3205 West Blvd, Cleveland, OH 44111', 'price': '199900', 'beds': '3', 'baths': '1.5', 'sqft': '4534', 'lot_sqft': [], 'pending_contingent': [], 'sqftlot': '0.28'}, {'address': '3053 W 105th St, Cleveland, OH 44111', 'price': '38500', 'beds': '3', 'baths': '1', 'sqft': '1967', 'lot_sqft': [], 'pending_contingent': [], 'sqftlot': '5301'}, {'address': '3396 W 117th St, Cleveland, OH 44111', 'price': '59900', 'beds': '4', 'baths': '2', 'sqft': '1956', 'lot_sqft': [], 'pending_contingent': [], 'sqftlot': '3920'}, {'address': '3237-3239 Warren Rd, Cleveland, OH 44111', 'price': '182000', 'beds': '6', 'baths': '2', 'sqft': '3716', 'lot_sqft': [], 'pending_contingent': [], 'sqftlot': '6634'}, {'address': '3496 W 127th St, Cleveland, OH 44111', 'price': '90000', 'beds': '3', 'baths': '1', 'sqft': '1640', 'lot_sqft': [], 'pending_contingent': [], 'sqftlot': '3659'}, {'address': '16509 Southland Ave, Cleveland, OH 44111', 'price': '204900', 'beds': '4', 'baths': '2', 'sqft': '2928', 'lot_sqft': [], 'pending_contingent': [], 'sqftlot': '0.23'}, {'address': '3591 W 122nd St, Cleveland, OH 44111', 'price': '58000', 'beds': '3', 'baths': '1', 'sqft': '1202', 'lot_sqft': [], 'pending_contingent': [], 'sqftlot': '3676'}, {'address': '3951 W 129th St, Cleveland, OH 44111', 'price': '49900', 'beds': '2', 'baths': '1', 'sqft': '810', 'lot_sqft': [], 'pending_contingent': [], 'sqftlot': '5450'}, {'address': '3212 W 120th St, Cleveland, OH 44111', 'price': '75000', 'beds': '3', 'baths': '2', 'sqft': '2112', 'lot_sqft': [], 'pending_contingent': [], 'sqftlot': '5140'}, {'address': '14721 Westland Ave, Cleveland, OH 44111', 'price': '187900', 'beds': '3', 'baths': '1.5', 'sqft': '1328', 'lot_sqft': [], 'pending_contingent': [], 'sqftlot': '6800'}, {'address': '3476 W 100th St, Cleveland, OH 44111', 'price': '92000', 'beds': '2', 'baths': '2', 'sqft': '1598', 'lot_sqft': [], 'pending_contingent': [], 'sqftlot': '4818'}, {'address': '3661 Bosworth Rd, Cleveland, OH 44111', 'price': '89900', 'beds': '5', 'baths': '2', 'sqft': '1804', 'lot_sqft': [], 'pending_contingent': [], 'sqftlot': '8324'}, {'address': '3646 W 104th St, Cleveland, OH 44111', 'price': '79900', 'beds': '2', 'baths': '1', 'sqft': '1810', 'lot_sqft': [], 'pending_contingent': [], 'sqftlot': '4225'}, {'address': '16001 Munn Rd, Cleveland, OH 44111', 'price': '172000', 'beds': '3', 'baths': '1.5', 'sqft': '2524', 'lot_sqft': [], 'pending_contingent': [], 'sqftlot': '5040'}, {'address': '3340 W 120th St, Cleveland, OH 44111', 'price': '93000', 'beds': '6', 'baths': '2', 'sqft': '2138', 'lot_sqft': [], 'pending_contingent': [], 'sqftlot': '4731'}, {'address': '10818 Bernard Ave, Cleveland, OH 44111', 'price': '109900', 'beds': '4', 'baths': '2', 'sqft': '2288', 'lot_sqft': [], 'pending_contingent': [], 'sqftlot': '5201'}, {'address': '10512 Fortune Ave, Cleveland, OH 44111', 'price': '110000', 'beds': '5', 'baths': '2', 'sqft': '2327', 'lot_sqft': [], 'pending_contingent': [], 'sqftlot': '3864'}, {'address': '3234 W 110th St, Cleveland, OH 44111', 'price': '89000', 'beds': '4', 'baths': '2', 'sqft': '1920', 'lot_sqft': [], 'pending_contingent': [], 'sqftlot': '4800'}, {'address': '3683 W 140th St, Cleveland, OH 44111', 'price': '65000', 'beds': '4', 'baths': '1.5', 'sqft': '1332', 'lot_sqft': [], 'pending_contingent': [], 'sqftlot': '5663'}, {'address': '11314 Flower Ave, Cleveland, OH 44111', 'price': '74900', 'beds': '3', 'baths': '1', 'sqft': '1311', 'lot_sqft': [], 'pending_contingent': [], 'sqftlot': '3920'}, {'address': '3125 W 140th St, Cleveland, OH 44111', 'price': '115000', 'beds': '2', 'baths': '2', 'sqft': '1617', 'lot_sqft': [], 'pending_contingent': [], 'sqftlot': '5750'}, {'address': '3532 W 152nd St, Cleveland, OH 44111', 'price': '224900', 'beds': '5', 'baths': '3.5', 'sqft': '2716', 'lot_sqft': [], 'pending_contingent': [], 'sqftlot': '6482'}, {'address': '3361 W 118th St, Cleveland, OH 44111', 'price': '109900', 'beds': '3', 'baths': '1', 'sqft': '1152', 'lot_sqft': [], 'pending_contingent': [], 'sqftlot': '4199'}, {'address': '3650 W 104th St, Cleveland, OH 44111', 'price': '79900', 'beds': '3', 'baths': '1', 'sqft': '1518', 'lot_sqft': [], 'pending_contingent': [], 'sqftlot': '4356'}, {'address': '17135 Amber Dr, Cleveland, OH 44111', 'price': '595000', 'beds': '6', 'baths': '3', 'sqft': '2748', 'lot_sqft': [], 'pending_contingent': [], 'sqftlot': '0.55'}, {'address': '11013 Dale Ave, Cleveland, OH 44111', 'price': '119000', 'beds': '3', 'baths': '2', 'sqft': '1944', 'lot_sqft': [], 'pending_contingent': [], 'sqftlot': '4408'}, {'address': '3179 W 160th St, Cleveland, OH 44111', 'price': '174800', 'beds': '2', 'baths': '2', 'sqft': '1412', 'lot_sqft': [], 'pending_contingent': [], 'sqftlot': '3960'}, {'address': '14116 Courtland Ave, Cleveland, OH 44111', 'price': '99000', 'beds': '3', 'baths': '1', 'sqft': '1668', 'lot_sqft': [], 'pending_contingent': [], 'sqftlot': '6199'}, {'address': '3725 W 139th St, Cleveland, OH 44111', 'price': '97500', 'beds': '2', 'baths': '1', 'sqft': '1964', 'lot_sqft': [], 'pending_contingent': [], 'sqftlot': '5602'}, {'address': '15402 Montrose Ave, Cleveland, OH 44111', 'price': '142500', 'beds': '3', 'baths': '2', 'sqft': '1112', 'lot_sqft': [], 'pending_contingent': [], 'sqftlot': '5401'}, {'address': '12317 Wayland Ave, Cleveland, OH 44111', 'price': '109900', 'beds': '3', 'baths': '1', 'sqft': '1182', 'lot_sqft': [], 'pending_contingent': [], 'sqftlot': '4199'}, {'address': '13217 Courtland Ave, Cleveland, OH 44111', 'price': '109900', 'beds': '3', 'baths': '2', 'sqft': '2180', 'lot_sqft': [], 'pending_contingent': [], 'sqftlot': '5001'}, {'address': '3470 W 118th St, Cleveland, OH 44111', 'price': '80000', 'beds': '2', 'baths': '1', 'sqft': '1248', 'lot_sqft': [], 'pending_contingent': [], 'sqftlot': '3676'}, {'address': '3569 W 159th St, Cleveland, OH 44111', 'price': '140000', 'beds': '3', 'baths': '1.5', 'sqft': '1515', 'lot_sqft': [], 'pending_contingent': [], 'sqftlot': '3480'}, {'address': '16514 Munn Rd, Cleveland, OH 44111', 'price': '164900', 'beds': '3', 'baths': '1.5', 'sqft': '1250', 'lot_sqft': [], 'pending_contingent': [], 'sqftlot': '5293'}, {'address': '3565 W 120th St, Cleveland, OH 44111', 'price': '84900', 'beds': '4', 'baths': '2', 'sqft': '1982', 'lot_sqft': [], 'pending_contingent': [], 'sqftlot': '4025'}, {'address': '3429 West Blvd, Cleveland, OH 44111', 'price': '125000', 'beds': '4', 'baths': '2', 'sqft': '2016', 'lot_sqft': [], 'pending_contingent': [], 'sqftlot': '0.23'}, {'address': '3515 W 126th St, Cleveland, OH 44111', 'price': '89900', 'beds': '3', 'baths': '1', 'sqft': '1453', 'lot_sqft': [], 'pending_contingent': [], 'sqftlot': '3920'}, {'address': '3274 W 130th St, Cleveland, OH 44111', 'price': '125000', 'beds': '5', 'baths': '3', 'sqft': '2263', 'lot_sqft': [], 'pending_contingent': [], 'sqftlot': '5031'}, {'address': '3859 W 140th St, Cleveland, OH 44111', 'price': '125000', 'beds': '6', 'baths': '2', 'sqft': '2113', 'lot_sqft': [], 'pending_contingent': [], 'sqftlot': '5070'}, {'address': '3977 W 157th St, Cleveland, OH 44111', 'price': '164900', 'beds': '4', 'baths': '2', 'sqft': '2380', 'lot_sqft': [], 'pending_contingent': [], 'sqftlot': '5001'}, {'address': '3497 Tuttle Ave, Cleveland, OH 44111', 'price': '125500', 'beds': '2', 'baths': '1.5', 'sqft': '1125', 'lot_sqft': [], 'pending_contingent': [], 'sqftlot': '4770'}, {'address': '3708 W 140th St, Cleveland, OH 44111', 'price': '65000', 'beds': '3', 'baths': '1', 'sqft': '2035', 'lot_sqft': [], 'pending_contingent': [], 'sqftlot': '4800'}, {'address': '3451 W 100th St, Cleveland, OH 44111', 'price': '59900', 'beds': '4', 'baths': '2', 'sqft': '3106', 'lot_sqft': [], 'pending_contingent': [], 'sqftlot': '5162'}, {'address': '3314 W 100th St, Cleveland, OH 44111', 'price': '57000', 'beds': '4', 'baths': '2', 'sqft': '3097', 'lot_sqft': [], 'pending_contingent': [], 'sqftlot': '4722'}, {'address': '3731 W Park Rd, Cleveland, OH 44111', 'price': '128888', 'beds': '4', 'baths': '2', 'sqft': '3040', 'lot_sqft': [], 'pending_contingent': [], 'sqftlot': '6970'}, {'address': '3834 Bosworth Rd, Cleveland, OH 44111', 'price': '144900', 'beds': '6', 'baths': '4', 'sqft': '', 'lot_sqft': [], 'pending_contingent': [], 'sqftlot': '7950'}, {'address': '11520 Linnet Ave, Cleveland, OH 44111', 'price': '99900', 'beds': '3', 'baths': '2', 'sqft': '1238', 'lot_sqft': [], 'pending_contingent': [], 'sqftlot': '4199'}, {'address': '3534 W 127th St, Cleveland, OH 44111', 'price': '124900', 'beds': '4', 'baths': '1.5', 'sqft': '1476', 'lot_sqft': [], 'pending_contingent': [], 'sqftlot': '4199'}, {'address': '10216 Ignatius Ave, Cleveland, OH 44111', 'price': '79900', 'beds': '4', 'baths': '2', 'sqft': '3134', 'lot_sqft': [], 'pending_contingent': [], 'sqftlot': '4840'}, {'address': '11213 Linnet Ave, Cleveland, OH 44111', 'price': '79900', 'beds': '4', 'baths': '2', 'sqft': '3192', 'lot_sqft': [], 'pending_contingent': [], 'sqftlot': '4408'}, {'address': '3880 W 165th St, Cleveland, OH 44111', 'price': '83000', 'beds': '4', 'baths': '1.5', 'sqft': '2024', 'lot_sqft': [], 'pending_contingent': [], 'sqftlot': '6098'}, {'address': '3131 W 101st St, Cleveland, OH 44111', 'price': '34900', 'beds': '4', 'baths': '1', 'sqft': '1754', 'lot_sqft': [], 'pending_contingent': [], 'sqftlot': '3424'}, {'address': '13709 Tyler Ave, Cleveland, OH 44111', 'price': '99900', 'beds': '3', 'baths': '1', 'sqft': '1752', 'lot_sqft': [], 'pending_contingent': [], 'sqftlot': '5001'}, {'address': '3678 West Blvd, Cleveland, OH 44111', 'price': '124000', 'beds': '4', 'baths': '2.5', 'sqft': '3120', 'lot_sqft': [], 'pending_contingent': [], 'sqftlot': '7802'}, {'address': '10429 Linnet Ave, Cleveland, OH 44111', 'price': '139900', 'beds': '5', 'baths': '1.5', 'sqft': '1712', 'lot_sqft': [], 'pending_contingent': [], 'sqftlot': '4408'}, {'address': '3511 Warren Rd, Cleveland, OH 44111', 'price': '124900', 'beds': '4', 'baths': '2', 'sqft': '1466', 'lot_sqft': [], 'pending_contingent': [], 'sqftlot': '5567'}, {'address': '11013 Governor Ave, Cleveland, OH 44111', 'price': '99900', 'beds': '3', 'baths': '1', 'sqft': '943', 'lot_sqft': [], 'pending_contingent': [], 'sqftlot': '4408'}, {'address': '3788 W 139th St, Cleveland, OH 44111', 'price': '114900', 'beds': '3', 'baths': '1', 'sqft': '1804', 'lot_sqft': [], 'pending_contingent': [], 'sqftlot': '3999'}, {'address': '14018 Seneca Ct, Cleveland, OH 44111', 'price': '64900', 'beds': '2', 'baths': '1', 'sqft': '', 'lot_sqft': [], 'pending_contingent': [], 'sqftlot': ''}, {'address': '3381 W 125th St, Cleveland, OH 44111', 'price': '109000', 'beds': '3', 'baths': '2', 'sqft': '1392', 'lot_sqft': [], 'pending_contingent': [], 'sqftlot': '4800'}, {'address': '12106 Geraldine Ave, Cleveland, OH 44111', 'price': '269975', 'beds': '3', 'baths': '2.5', 'sqft': '1685', 'lot_sqft': [], 'pending_contingent': [], 'sqftlot': '6129'}, {'address': '3271 W 123rd St, Cleveland, OH 44111', 'price': '269975', 'beds': '3', 'baths': '2.5', 'sqft': '1670', 'lot_sqft': [], 'pending_contingent': [], 'sqftlot': '5998'}, {'address': '3318 W 122nd St, Cleveland, OH 44111', 'price': '269975', 'beds': '3', 'baths': '2.5', 'sqft': '1792', 'lot_sqft': [], 'pending_contingent': [], 'sqftlot': '5998'}, {'address': '12121 Belden Ave, Cleveland, OH 44111', 'price': '258000', 'beds': '3', 'baths': '2.5', 'sqft': '1862', 'lot_sqft': [], 'pending_contingent': [], 'sqftlot': '5162'}, {'address': '3322 W 122nd St, Cleveland, OH 44111', 'price': '269975', 'beds': '3', 'baths': '2.5', 'sqft': '1792', 'lot_sqft': [], 'pending_contingent': [], 'sqftlot': '3615'}, {'address': '3021 W 117th St, Cleveland, OH 44111', 'price': '600000', 'beds': '', 'baths': '', 'sqft': '', 'lot_sqft': [], 'pending_contingent': [], 'sqftlot': '0.39'}]\n"
          ],
          "name": "stdout"
        }
      ]
    },
    {
      "cell_type": "markdown",
      "metadata": {
        "id": "kmenqXt-I30-",
        "colab_type": "text"
      },
      "source": [
        "# 2.1 Load DataFrame\n",
        "\n",
        "Import pandas and create DataFrame.\n",
        "\n",
        "Create series for $/sqft."
      ]
    },
    {
      "cell_type": "code",
      "metadata": {
        "id": "QV8zZ5YgkdZg",
        "colab_type": "code",
        "colab": {}
      },
      "source": [
        "import pandas as pd\n",
        "import numpy as np\n",
        "\n",
        "df = pd.DataFrame(house_data)\n",
        "\n",
        "df.replace('', np.nan, inplace=True)\n",
        "\n",
        "df['$/sqft'] = (df['price'].astype(float)/df['sqft'].astype(float)).round(1)\n",
        "\n",
        "avgPriceSQFT = round(df['$/sqft'].mean(), 1)"
      ],
      "execution_count": null,
      "outputs": []
    },
    {
      "cell_type": "markdown",
      "metadata": {
        "id": "EwA7VvITzQkX",
        "colab_type": "text"
      },
      "source": [
        "# 2.2 Sort DF by $/SQFT\n",
        "\n",
        "Sort DataFrame by $/SQFT and print Top 10."
      ]
    },
    {
      "cell_type": "code",
      "metadata": {
        "id": "Xhw-X_3Ew-gG",
        "colab_type": "code",
        "colab": {
          "base_uri": "https://localhost:8080/",
          "height": 221
        },
        "outputId": "1f852704-af76-4ff7-98d9-585c5a717b2b"
      },
      "source": [
        "df.sort_values('$/sqft', ascending=True, inplace=True)\n",
        "\n",
        "print('Top 10 highest profit potential:')\n",
        "print(str(df[['address', '$/sqft']][:10]))"
      ],
      "execution_count": 47,
      "outputs": [
        {
          "output_type": "stream",
          "text": [
            "Top 10 highest profit potential:\n",
            "                                     address  $/sqft\n",
            "88      3314 W 100th St, Cleveland, OH 44111    18.4\n",
            "87      3451 W 100th St, Cleveland, OH 44111    19.3\n",
            "45      3053 W 105th St, Cleveland, OH 44111    19.6\n",
            "96      3131 W 101st St, Cleveland, OH 44111    19.9\n",
            "94     11213 Linnet Ave, Cleveland, OH 44111    25.0\n",
            "93   10216 Ignatius Ave, Cleveland, OH 44111    25.5\n",
            "32      3069 W 105th St, Cleveland, OH 44111    26.9\n",
            "46      3396 W 117th St, Cleveland, OH 44111    30.6\n",
            "1   3980 Rocky River Dr, Cleveland, OH 44111    31.1\n",
            "86      3708 W 140th St, Cleveland, OH 44111    31.9\n"
          ],
          "name": "stdout"
        }
      ]
    },
    {
      "cell_type": "markdown",
      "metadata": {
        "id": "iivC-5o4zoka",
        "colab_type": "text"
      },
      "source": [
        "# 2.3 Plot DF with Mean $/SQFT\n",
        "\n",
        "Use matplotlib to plot the DataFrame and the mean $/SQFT."
      ]
    },
    {
      "cell_type": "code",
      "metadata": {
        "id": "RBe0hW3Yy0Ox",
        "colab_type": "code",
        "colab": {
          "base_uri": "https://localhost:8080/",
          "height": 479
        },
        "outputId": "3a95246f-2dde-45cf-99e0-ca757894d7e5"
      },
      "source": [
        "from matplotlib import pyplot as plt\n",
        "\n",
        "plt.style.use(\"ggplot\")\n",
        "plt.figure(figsize=(20,10))\n",
        "plt.plot(df['address'], df['$/sqft'], label='$/SQFT')\n",
        "plt.hlines(avgPriceSQFT, 0, df['address'].size, label='Mean $/SQFT - {}'.format(avgPriceSQFT))\n",
        "plt.ylabel('$/SQFT')\n",
        "plt.xticks(range(len(df['address'].index)), df['address'].index)\n",
        "plt.legend()\n",
        "plt.show()"
      ],
      "execution_count": 48,
      "outputs": [
        {
          "output_type": "display_data",
          "data": {
            "image/png": "[encoded data removed]",
            "text/plain": [
              "<Figure size 1440x720 with 1 Axes>"
            ]
          },
          "metadata": {
            "tags": []
          }
        }
      ]
    }
  ]
}